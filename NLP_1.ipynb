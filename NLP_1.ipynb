{
  "cells": [
    {
      "cell_type": "markdown",
      "metadata": {
        "id": "2EwWUtwtOFnh"
      },
      "source": [
        "Классификация по тональности\n",
        "\n",
        "В этом домашнем задании вам предстоит классифицировать по тональности отзывы на банки с сайта banki.ru.\n",
        "\n",
        "Данные содержат непосредственно тексты отзывов, некоторую дополнительную информацию, а также оценку по шкале от 1 до 5.\n",
        "\n",
        "Тексты хранятся в json-ах в массиве responses.\n",
        "\n",
        "Посмотрим на примере отзыва: возьмите для удобства ноутбук, размещенный в папке репозитория.\n",
        "Часть 1. Анализ текстов\n",
        "\n",
        "    Посчитайте количество отзывов в разных городах и на разные банки\n",
        "    Постройте гистограмы длин слов в символах и в словах\n",
        "    Найдите 10 самых частых:\n",
        "\n",
        "    слов\n",
        "    слов без стоп-слов\n",
        "    лемм\n",
        "    существительных\n",
        "\n",
        "    Постройте кривые Ципфа и Хипса\n",
        "    Ответьте на следующие вопросы:\n",
        "\n",
        "    какое слово встречается чаще, \"сотрудник\" или \"клиент\"?\n",
        "    сколько раз встречается слова \"мошенничество\" и \"доверие\"?\n",
        "\n",
        "    В поле \"rating_grade\" записана оценка отзыва по шкале от 1 до 5. Используйте меру \n",
        "\n",
        "    , для того, чтобы найти ключевые слова и биграмы для положительных отзывов (с оценкой 5) и отрицательных отзывов (с оценкой 1)\n",
        "\n",
        "Часть 2. Тематическое моделирование\n",
        "\n",
        "    Постройте несколько тематических моделей коллекции документов с разным числом тем. Приведите примеры понятных (интерпретируемых) тем.\n",
        "    Найдите темы, в которых упомянуты конкретные банки (Сбербанк, ВТБ, другой банк). Можете ли вы их прокомментировать / объяснить? Эта часть задания может быть сделана с использованием gensim.\n",
        "\n",
        "Часть 3. Классификация текстов\n",
        "\n",
        "Сформулируем для простоты задачу бинарной классификации: будем классифицировать на два класса, то есть, различать резко отрицательные отзывы (с оценкой 1) и положительные отзывы (с оценкой 5).\n",
        "\n",
        "    Составьте обучающее и тестовое множество: выберите из всего набора данных N1 отзывов с оценкой 1 и N2 отзывов с оценкой 5 (значение N1 и N2 – на ваше усмотрение). Используйте sklearn.model_selection.train_test_split для разделения множества отобранных документов на обучающее и тестовое.\n",
        "    Используйте любой известный вам алгоритм классификации текстов для решения задачи и получите baseline. Сравните разные варианты векторизации текста: использование только униграм, пар или троек слов или с использованием символьных \n",
        "\n",
        "    -грам.\n",
        "    Сравните, как изменяется качество решения задачи при использовании скрытых тем в качестве признаков:\n",
        "\n",
        "    1-ый вариант: \n",
        "\n",
        "    преобразование (sklearn.feature_extraction.text.TfidfTransformer) и сингулярное разложение (оно же – латентый семантический анализ) (sklearn.decomposition.TruncatedSVD),\n",
        "    2-ой вариант: тематические модели LDA (sklearn.decomposition.LatentDirichletAllocation). Используйте accuracy и F-measure для оценки качества классификации.\n",
        "\n",
        "В ноутбуке, размещенном в папке репозитория. написан примерный Pipeline для классификации текстов.\n",
        "\n",
        "Эта часть задания может быть сделана с использованием sklearn."
      ]
    },
    {
      "cell_type": "code",
      "execution_count": null,
      "metadata": {
        "id": "PQxT2nEaOHQR"
      },
      "outputs": [],
      "source": [
        "import json\n",
        "\n",
        "import bz2\n",
        "import re\n",
        "from tqdm import tqdm\n",
        "from scipy import sparse\n",
        "from collections import Counter"
      ]
    },
    {
      "cell_type": "code",
      "execution_count": null,
      "metadata": {
        "colab": {
          "base_uri": "https://localhost:8080/"
        },
        "id": "IKuMyPNUoUn9",
        "outputId": "ee89ee55-1ac1-469d-d850-765799a32eab"
      },
      "outputs": [
        {
          "name": "stdout",
          "output_type": "stream",
          "text": [
            "%pylab is deprecated, use %matplotlib inline and import the required libraries.\n",
            "Populating the interactive namespace from numpy and matplotlib\n"
          ]
        }
      ],
      "source": [
        "import pandas as pd\n",
        "import numpy as np\n",
        "import nltk\n",
        "import matplotlib.pyplot as plt\n",
        "import seaborn as sns\n",
        "%matplotlib inline\n",
        "%pylab inline"
      ]
    },
    {
      "cell_type": "code",
      "execution_count": null,
      "metadata": {
        "colab": {
          "base_uri": "https://localhost:8080/"
        },
        "id": "SugA3-FRpUZ2",
        "outputId": "0c5af549-6cb5-4873-91df-f4c82c32ba40"
      },
      "outputs": [
        {
          "name": "stderr",
          "output_type": "stream",
          "text": [
            "201030it [00:40, 4913.01it/s]\n"
          ]
        }
      ],
      "source": [
        "responses = []\n",
        "with bz2.BZ2File('banki_responses.json.bz2', 'r') as thefile:\n",
        "    for row in tqdm(thefile):\n",
        "        resp = json.loads(row)\n",
        "        if not resp['rating_not_checked'] and (len(resp['text'].split()) > 0):\n",
        "            responses.append(resp)"
      ]
    },
    {
      "cell_type": "code",
      "execution_count": null,
      "metadata": {
        "colab": {
          "base_uri": "https://localhost:8080/",
          "height": 493
        },
        "id": "wVf8bAsSOVSg",
        "outputId": "6a03503f-a185-455c-d7b6-c2f477eefee0"
      },
      "outputs": [
        {
          "data": {
            "text/html": [
              "<div>\n",
              "<style scoped>\n",
              "    .dataframe tbody tr th:only-of-type {\n",
              "        vertical-align: middle;\n",
              "    }\n",
              "\n",
              "    .dataframe tbody tr th {\n",
              "        vertical-align: top;\n",
              "    }\n",
              "\n",
              "    .dataframe thead th {\n",
              "        text-align: right;\n",
              "    }\n",
              "</style>\n",
              "<table border=\"1\" class=\"dataframe\">\n",
              "  <thead>\n",
              "    <tr style=\"text-align: right;\">\n",
              "      <th></th>\n",
              "      <th>city</th>\n",
              "      <th>rating_not_checked</th>\n",
              "      <th>title</th>\n",
              "      <th>num_comments</th>\n",
              "      <th>bank_license</th>\n",
              "      <th>author</th>\n",
              "      <th>bank_name</th>\n",
              "      <th>datetime</th>\n",
              "      <th>text</th>\n",
              "      <th>rating_grade</th>\n",
              "    </tr>\n",
              "  </thead>\n",
              "  <tbody>\n",
              "    <tr>\n",
              "      <th>0</th>\n",
              "      <td>г. Москва</td>\n",
              "      <td>False</td>\n",
              "      <td>Жалоба</td>\n",
              "      <td>0</td>\n",
              "      <td>лицензия № 2562</td>\n",
              "      <td>uhnov1</td>\n",
              "      <td>Бинбанк</td>\n",
              "      <td>2015-06-08 12:50:54</td>\n",
              "      <td>Добрый день! Я не являюсь клиентом банка и пор...</td>\n",
              "      <td>NaN</td>\n",
              "    </tr>\n",
              "    <tr>\n",
              "      <th>1</th>\n",
              "      <td>г. Новосибирск</td>\n",
              "      <td>False</td>\n",
              "      <td>Не могу пользоваться услугой Сбербанк он-лайн</td>\n",
              "      <td>0</td>\n",
              "      <td>лицензия № 1481</td>\n",
              "      <td>Foryou</td>\n",
              "      <td>Сбербанк России</td>\n",
              "      <td>2015-06-08 11:09:57</td>\n",
              "      <td>Доброго дня! Являюсь держателем зарплатной кар...</td>\n",
              "      <td>NaN</td>\n",
              "    </tr>\n",
              "    <tr>\n",
              "      <th>2</th>\n",
              "      <td>г. Москва</td>\n",
              "      <td>False</td>\n",
              "      <td>Двойное списание за один товар.</td>\n",
              "      <td>1</td>\n",
              "      <td>лицензия № 2562</td>\n",
              "      <td>Vladimir84</td>\n",
              "      <td>Бинбанк</td>\n",
              "      <td>2015-06-05 20:14:28</td>\n",
              "      <td>Здравствуйте!  Дублирую свое заявление от 03.0...</td>\n",
              "      <td>NaN</td>\n",
              "    </tr>\n",
              "    <tr>\n",
              "      <th>3</th>\n",
              "      <td>г. Ставрополь</td>\n",
              "      <td>False</td>\n",
              "      <td>Меняют проценты комиссии  не предупредив и не ...</td>\n",
              "      <td>2</td>\n",
              "      <td>лицензия № 1481</td>\n",
              "      <td>643609</td>\n",
              "      <td>Сбербанк России</td>\n",
              "      <td>2015-06-05 13:51:01</td>\n",
              "      <td>Добрый день!! Я открыл расчетный счет в СберБа...</td>\n",
              "      <td>NaN</td>\n",
              "    </tr>\n",
              "    <tr>\n",
              "      <th>4</th>\n",
              "      <td>г. Челябинск</td>\n",
              "      <td>False</td>\n",
              "      <td>Верните денежные средства за страховку</td>\n",
              "      <td>1</td>\n",
              "      <td>лицензия № 2766</td>\n",
              "      <td>anfisa-2003</td>\n",
              "      <td>ОТП Банк</td>\n",
              "      <td>2015-06-05 10:58:12</td>\n",
              "      <td>04.03.2015 г. взяла кредит в вашем банке, заяв...</td>\n",
              "      <td>NaN</td>\n",
              "    </tr>\n",
              "  </tbody>\n",
              "</table>\n",
              "</div>"
            ],
            "text/plain": [
              "             city  rating_not_checked  \\\n",
              "0       г. Москва               False   \n",
              "1  г. Новосибирск               False   \n",
              "2       г. Москва               False   \n",
              "3   г. Ставрополь               False   \n",
              "4    г. Челябинск               False   \n",
              "\n",
              "                                               title  num_comments  \\\n",
              "0                                             Жалоба             0   \n",
              "1      Не могу пользоваться услугой Сбербанк он-лайн             0   \n",
              "2                    Двойное списание за один товар.             1   \n",
              "3  Меняют проценты комиссии  не предупредив и не ...             2   \n",
              "4             Верните денежные средства за страховку             1   \n",
              "\n",
              "      bank_license       author        bank_name             datetime  \\\n",
              "0  лицензия № 2562       uhnov1          Бинбанк  2015-06-08 12:50:54   \n",
              "1  лицензия № 1481       Foryou  Сбербанк России  2015-06-08 11:09:57   \n",
              "2  лицензия № 2562   Vladimir84          Бинбанк  2015-06-05 20:14:28   \n",
              "3  лицензия № 1481       643609  Сбербанк России  2015-06-05 13:51:01   \n",
              "4  лицензия № 2766  anfisa-2003         ОТП Банк  2015-06-05 10:58:12   \n",
              "\n",
              "                                                text  rating_grade  \n",
              "0  Добрый день! Я не являюсь клиентом банка и пор...           NaN  \n",
              "1  Доброго дня! Являюсь держателем зарплатной кар...           NaN  \n",
              "2  Здравствуйте!  Дублирую свое заявление от 03.0...           NaN  \n",
              "3  Добрый день!! Я открыл расчетный счет в СберБа...           NaN  \n",
              "4  04.03.2015 г. взяла кредит в вашем банке, заяв...           NaN  "
            ]
          },
          "execution_count": 4,
          "metadata": {},
          "output_type": "execute_result"
        }
      ],
      "source": [
        "df = pd.DataFrame(responses)\n",
        "df.head()"
      ]
    },
    {
      "cell_type": "markdown",
      "metadata": {
        "id": "bh9XdYmVRUiH"
      },
      "source": [
        "## Посчитайте количество отзывов в разных городах и на разные банки"
      ]
    },
    {
      "cell_type": "code",
      "execution_count": null,
      "metadata": {
        "colab": {
          "base_uri": "https://localhost:8080/",
          "height": 424
        },
        "id": "124NXwvrO42Y",
        "outputId": "4e454fac-e0f9-4e58-cb05-647a9da6a281"
      },
      "outputs": [
        {
          "data": {
            "text/html": [
              "\n",
              "  <div id=\"df-eba24d9b-6dfe-4287-ae86-086535474129\">\n",
              "    <div class=\"colab-df-container\">\n",
              "      <div>\n",
              "<style scoped>\n",
              "    .dataframe tbody tr th:only-of-type {\n",
              "        vertical-align: middle;\n",
              "    }\n",
              "\n",
              "    .dataframe tbody tr th {\n",
              "        vertical-align: top;\n",
              "    }\n",
              "\n",
              "    .dataframe thead th {\n",
              "        text-align: right;\n",
              "    }\n",
              "</style>\n",
              "<table border=\"1\" class=\"dataframe\">\n",
              "  <thead>\n",
              "    <tr style=\"text-align: right;\">\n",
              "      <th></th>\n",
              "      <th>city</th>\n",
              "      <th>bank_name</th>\n",
              "      <th>num_comments</th>\n",
              "    </tr>\n",
              "  </thead>\n",
              "  <tbody>\n",
              "    <tr>\n",
              "      <th>7453</th>\n",
              "      <td>г. Москва</td>\n",
              "      <td>Сбербанк России</td>\n",
              "      <td>33488</td>\n",
              "    </tr>\n",
              "    <tr>\n",
              "      <th>7489</th>\n",
              "      <td>г. Москва</td>\n",
              "      <td>Тинькофф Банк</td>\n",
              "      <td>25235</td>\n",
              "    </tr>\n",
              "    <tr>\n",
              "      <th>7437</th>\n",
              "      <td>г. Москва</td>\n",
              "      <td>Русский Стандарт</td>\n",
              "      <td>14208</td>\n",
              "    </tr>\n",
              "    <tr>\n",
              "      <th>7140</th>\n",
              "      <td>г. Москва</td>\n",
              "      <td>Авангард</td>\n",
              "      <td>14022</td>\n",
              "    </tr>\n",
              "    <tr>\n",
              "      <th>7160</th>\n",
              "      <td>г. Москва</td>\n",
              "      <td>Альфа-Банк</td>\n",
              "      <td>12993</td>\n",
              "    </tr>\n",
              "    <tr>\n",
              "      <th>...</th>\n",
              "      <td>...</td>\n",
              "      <td>...</td>\n",
              "      <td>...</td>\n",
              "    </tr>\n",
              "    <tr>\n",
              "      <th>15438</th>\n",
              "      <td>г. Чебоксары</td>\n",
              "      <td>Кредит Европа Банк</td>\n",
              "      <td>0</td>\n",
              "    </tr>\n",
              "    <tr>\n",
              "      <th>2842</th>\n",
              "      <td>г. Даниловка</td>\n",
              "      <td>Азиатско-Тихоокеанский Банк</td>\n",
              "      <td>0</td>\n",
              "    </tr>\n",
              "    <tr>\n",
              "      <th>6311</th>\n",
              "      <td>г. Липецк</td>\n",
              "      <td>Московский Кредитный Банк</td>\n",
              "      <td>0</td>\n",
              "    </tr>\n",
              "    <tr>\n",
              "      <th>2843</th>\n",
              "      <td>г. Данков</td>\n",
              "      <td>Восточный Экспресс Банк</td>\n",
              "      <td>0</td>\n",
              "    </tr>\n",
              "    <tr>\n",
              "      <th>18768</th>\n",
              "      <td>г. … или другой населенный пункт</td>\n",
              "      <td>Лето Банк</td>\n",
              "      <td>0</td>\n",
              "    </tr>\n",
              "  </tbody>\n",
              "</table>\n",
              "<p>18769 rows × 3 columns</p>\n",
              "</div>\n",
              "      <button class=\"colab-df-convert\" onclick=\"convertToInteractive('df-eba24d9b-6dfe-4287-ae86-086535474129')\"\n",
              "              title=\"Convert this dataframe to an interactive table.\"\n",
              "              style=\"display:none;\">\n",
              "        \n",
              "  <svg xmlns=\"http://www.w3.org/2000/svg\" height=\"24px\"viewBox=\"0 0 24 24\"\n",
              "       width=\"24px\">\n",
              "    <path d=\"M0 0h24v24H0V0z\" fill=\"none\"/>\n",
              "    <path d=\"M18.56 5.44l.94 2.06.94-2.06 2.06-.94-2.06-.94-.94-2.06-.94 2.06-2.06.94zm-11 1L8.5 8.5l.94-2.06 2.06-.94-2.06-.94L8.5 2.5l-.94 2.06-2.06.94zm10 10l.94 2.06.94-2.06 2.06-.94-2.06-.94-.94-2.06-.94 2.06-2.06.94z\"/><path d=\"M17.41 7.96l-1.37-1.37c-.4-.4-.92-.59-1.43-.59-.52 0-1.04.2-1.43.59L10.3 9.45l-7.72 7.72c-.78.78-.78 2.05 0 2.83L4 21.41c.39.39.9.59 1.41.59.51 0 1.02-.2 1.41-.59l7.78-7.78 2.81-2.81c.8-.78.8-2.07 0-2.86zM5.41 20L4 18.59l7.72-7.72 1.47 1.35L5.41 20z\"/>\n",
              "  </svg>\n",
              "      </button>\n",
              "      \n",
              "  <style>\n",
              "    .colab-df-container {\n",
              "      display:flex;\n",
              "      flex-wrap:wrap;\n",
              "      gap: 12px;\n",
              "    }\n",
              "\n",
              "    .colab-df-convert {\n",
              "      background-color: #E8F0FE;\n",
              "      border: none;\n",
              "      border-radius: 50%;\n",
              "      cursor: pointer;\n",
              "      display: none;\n",
              "      fill: #1967D2;\n",
              "      height: 32px;\n",
              "      padding: 0 0 0 0;\n",
              "      width: 32px;\n",
              "    }\n",
              "\n",
              "    .colab-df-convert:hover {\n",
              "      background-color: #E2EBFA;\n",
              "      box-shadow: 0px 1px 2px rgba(60, 64, 67, 0.3), 0px 1px 3px 1px rgba(60, 64, 67, 0.15);\n",
              "      fill: #174EA6;\n",
              "    }\n",
              "\n",
              "    [theme=dark] .colab-df-convert {\n",
              "      background-color: #3B4455;\n",
              "      fill: #D2E3FC;\n",
              "    }\n",
              "\n",
              "    [theme=dark] .colab-df-convert:hover {\n",
              "      background-color: #434B5C;\n",
              "      box-shadow: 0px 1px 3px 1px rgba(0, 0, 0, 0.15);\n",
              "      filter: drop-shadow(0px 1px 2px rgba(0, 0, 0, 0.3));\n",
              "      fill: #FFFFFF;\n",
              "    }\n",
              "  </style>\n",
              "\n",
              "      <script>\n",
              "        const buttonEl =\n",
              "          document.querySelector('#df-eba24d9b-6dfe-4287-ae86-086535474129 button.colab-df-convert');\n",
              "        buttonEl.style.display =\n",
              "          google.colab.kernel.accessAllowed ? 'block' : 'none';\n",
              "\n",
              "        async function convertToInteractive(key) {\n",
              "          const element = document.querySelector('#df-eba24d9b-6dfe-4287-ae86-086535474129');\n",
              "          const dataTable =\n",
              "            await google.colab.kernel.invokeFunction('convertToInteractive',\n",
              "                                                     [key], {});\n",
              "          if (!dataTable) return;\n",
              "\n",
              "          const docLinkHtml = 'Like what you see? Visit the ' +\n",
              "            '<a target=\"_blank\" href=https://colab.research.google.com/notebooks/data_table.ipynb>data table notebook</a>'\n",
              "            + ' to learn more about interactive tables.';\n",
              "          element.innerHTML = '';\n",
              "          dataTable['output_type'] = 'display_data';\n",
              "          await google.colab.output.renderOutput(dataTable, element);\n",
              "          const docLink = document.createElement('div');\n",
              "          docLink.innerHTML = docLinkHtml;\n",
              "          element.appendChild(docLink);\n",
              "        }\n",
              "      </script>\n",
              "    </div>\n",
              "  </div>\n",
              "  "
            ],
            "text/plain": [
              "                                   city                    bank_name  \\\n",
              "7453                          г. Москва              Сбербанк России   \n",
              "7489                          г. Москва                Тинькофф Банк   \n",
              "7437                          г. Москва             Русский Стандарт   \n",
              "7140                          г. Москва                     Авангард   \n",
              "7160                          г. Москва                   Альфа-Банк   \n",
              "...                                 ...                          ...   \n",
              "15438                      г. Чебоксары           Кредит Европа Банк   \n",
              "2842                       г. Даниловка  Азиатско-Тихоокеанский Банк   \n",
              "6311                          г. Липецк    Московский Кредитный Банк   \n",
              "2843                          г. Данков      Восточный Экспресс Банк   \n",
              "18768  г. … или другой населенный пункт                    Лето Банк   \n",
              "\n",
              "       num_comments  \n",
              "7453          33488  \n",
              "7489          25235  \n",
              "7437          14208  \n",
              "7140          14022  \n",
              "7160          12993  \n",
              "...             ...  \n",
              "15438             0  \n",
              "2842              0  \n",
              "6311              0  \n",
              "2843              0  \n",
              "18768             0  \n",
              "\n",
              "[18769 rows x 3 columns]"
            ]
          },
          "execution_count": 5,
          "metadata": {},
          "output_type": "execute_result"
        }
      ],
      "source": [
        "grouped = df.groupby(['city', 'bank_name'])['num_comments'].sum().reset_index()\n",
        "grouped.sort_values(by='num_comments', ascending=False)"
      ]
    },
    {
      "cell_type": "markdown",
      "metadata": {
        "id": "se6EuCtiRagW"
      },
      "source": [
        "## Постройте гистограмы длин слов в символах и в словах"
      ]
    },
    {
      "cell_type": "code",
      "execution_count": null,
      "metadata": {
        "id": "Te1edGBRRbiv"
      },
      "outputs": [],
      "source": [
        "df['test_len'] = df['text'].apply(len)\n",
        "df['word_len'] = df['text'].apply(lambda x: len(x.split()))"
      ]
    },
    {
      "cell_type": "code",
      "execution_count": null,
      "metadata": {
        "colab": {
          "base_uri": "https://localhost:8080/",
          "height": 731
        },
        "id": "9OO32KmwVmra",
        "outputId": "99efcdd4-1e96-4452-9643-b55c8f4163e3"
      },
      "outputs": [
        {
          "data": {
            "image/png": "[encoded data removed]",
            "text/plain": [
              "<Figure size 864x864 with 1 Axes>"
            ]
          },
          "metadata": {
            "needs_background": "light"
          },
          "output_type": "display_data"
        }
      ],
      "source": [
        "plt.figure(figsize=(12,12)) \n",
        "sns.histplot(df['test_len'], bins=125)\n",
        "plt.title('Text len')\n",
        "plt.show();"
      ]
    },
    {
      "cell_type": "code",
      "execution_count": null,
      "metadata": {
        "colab": {
          "base_uri": "https://localhost:8080/",
          "height": 731
        },
        "id": "6Kx_zRkbWaAx",
        "outputId": "a8774f08-17d6-4675-b002-507bf49edb7f"
      },
      "outputs": [
        {
          "data": {
            "image/png": "[encoded data removed]",
            "text/plain": [
              "<Figure size 864x864 with 1 Axes>"
            ]
          },
          "metadata": {
            "needs_background": "light"
          },
          "output_type": "display_data"
        }
      ],
      "source": [
        "plt.figure(figsize=(12,12)) \n",
        "sns.histplot(df['word_len'], bins=125)\n",
        "plt.title('Word len')\n",
        "plt.show();"
      ]
    },
    {
      "cell_type": "markdown",
      "metadata": {
        "id": "j-Pe-BW9nElz"
      },
      "source": [
        "##     Найдите 10 самых частых:\n",
        "\n",
        "    слов\n",
        "    слов без стоп-слов\n",
        "    лемм\n",
        "    существительных\n"
      ]
    },
    {
      "cell_type": "markdown",
      "metadata": {
        "id": "91pJSn1dsYy6"
      },
      "source": [
        "### Приведем все к нижнему регистру и уберем личшние символы, по сути все кроме слов"
      ]
    },
    {
      "cell_type": "code",
      "execution_count": null,
      "metadata": {
        "id": "sihyVH8HYIEa"
      },
      "outputs": [],
      "source": [
        "df['text'] = df['text'].str.replace('[^а-яА-Я -]+', '', regex=True).str.replace('\\s+', ' ', regex=True).str.lower()"
      ]
    },
    {
      "cell_type": "code",
      "execution_count": null,
      "metadata": {
        "colab": {
          "base_uri": "https://localhost:8080/",
          "height": 493
        },
        "id": "ek_cdZKsnG4M",
        "outputId": "c202caba-ed93-4b29-b44a-8a9ad3a141df"
      },
      "outputs": [
        {
          "data": {
            "text/html": [
              "<div>\n",
              "<style scoped>\n",
              "    .dataframe tbody tr th:only-of-type {\n",
              "        vertical-align: middle;\n",
              "    }\n",
              "\n",
              "    .dataframe tbody tr th {\n",
              "        vertical-align: top;\n",
              "    }\n",
              "\n",
              "    .dataframe thead th {\n",
              "        text-align: right;\n",
              "    }\n",
              "</style>\n",
              "<table border=\"1\" class=\"dataframe\">\n",
              "  <thead>\n",
              "    <tr style=\"text-align: right;\">\n",
              "      <th></th>\n",
              "      <th>city</th>\n",
              "      <th>rating_not_checked</th>\n",
              "      <th>title</th>\n",
              "      <th>num_comments</th>\n",
              "      <th>bank_license</th>\n",
              "      <th>author</th>\n",
              "      <th>bank_name</th>\n",
              "      <th>datetime</th>\n",
              "      <th>text</th>\n",
              "      <th>rating_grade</th>\n",
              "    </tr>\n",
              "  </thead>\n",
              "  <tbody>\n",
              "    <tr>\n",
              "      <th>0</th>\n",
              "      <td>г. Москва</td>\n",
              "      <td>False</td>\n",
              "      <td>Жалоба</td>\n",
              "      <td>0</td>\n",
              "      <td>лицензия № 2562</td>\n",
              "      <td>uhnov1</td>\n",
              "      <td>Бинбанк</td>\n",
              "      <td>2015-06-08 12:50:54</td>\n",
              "      <td>добрый день я не являюсь клиентом банка и пору...</td>\n",
              "      <td>NaN</td>\n",
              "    </tr>\n",
              "    <tr>\n",
              "      <th>1</th>\n",
              "      <td>г. Новосибирск</td>\n",
              "      <td>False</td>\n",
              "      <td>Не могу пользоваться услугой Сбербанк он-лайн</td>\n",
              "      <td>0</td>\n",
              "      <td>лицензия № 1481</td>\n",
              "      <td>Foryou</td>\n",
              "      <td>Сбербанк России</td>\n",
              "      <td>2015-06-08 11:09:57</td>\n",
              "      <td>доброго дня являюсь держателем зарплатной карт...</td>\n",
              "      <td>NaN</td>\n",
              "    </tr>\n",
              "    <tr>\n",
              "      <th>2</th>\n",
              "      <td>г. Москва</td>\n",
              "      <td>False</td>\n",
              "      <td>Двойное списание за один товар.</td>\n",
              "      <td>1</td>\n",
              "      <td>лицензия № 2562</td>\n",
              "      <td>Vladimir84</td>\n",
              "      <td>Бинбанк</td>\n",
              "      <td>2015-06-05 20:14:28</td>\n",
              "      <td>здравствуйте дублирую свое заявление от в до м...</td>\n",
              "      <td>NaN</td>\n",
              "    </tr>\n",
              "    <tr>\n",
              "      <th>3</th>\n",
              "      <td>г. Ставрополь</td>\n",
              "      <td>False</td>\n",
              "      <td>Меняют проценты комиссии  не предупредив и не ...</td>\n",
              "      <td>2</td>\n",
              "      <td>лицензия № 1481</td>\n",
              "      <td>643609</td>\n",
              "      <td>Сбербанк России</td>\n",
              "      <td>2015-06-05 13:51:01</td>\n",
              "      <td>добрый день я открыл расчетный счет в сбербанк...</td>\n",
              "      <td>NaN</td>\n",
              "    </tr>\n",
              "    <tr>\n",
              "      <th>4</th>\n",
              "      <td>г. Челябинск</td>\n",
              "      <td>False</td>\n",
              "      <td>Верните денежные средства за страховку</td>\n",
              "      <td>1</td>\n",
              "      <td>лицензия № 2766</td>\n",
              "      <td>anfisa-2003</td>\n",
              "      <td>ОТП Банк</td>\n",
              "      <td>2015-06-05 10:58:12</td>\n",
              "      <td>г взяла кредит в вашем банке заявленная мною ...</td>\n",
              "      <td>NaN</td>\n",
              "    </tr>\n",
              "  </tbody>\n",
              "</table>\n",
              "</div>"
            ],
            "text/plain": [
              "             city  rating_not_checked  \\\n",
              "0       г. Москва               False   \n",
              "1  г. Новосибирск               False   \n",
              "2       г. Москва               False   \n",
              "3   г. Ставрополь               False   \n",
              "4    г. Челябинск               False   \n",
              "\n",
              "                                               title  num_comments  \\\n",
              "0                                             Жалоба             0   \n",
              "1      Не могу пользоваться услугой Сбербанк он-лайн             0   \n",
              "2                    Двойное списание за один товар.             1   \n",
              "3  Меняют проценты комиссии  не предупредив и не ...             2   \n",
              "4             Верните денежные средства за страховку             1   \n",
              "\n",
              "      bank_license       author        bank_name             datetime  \\\n",
              "0  лицензия № 2562       uhnov1          Бинбанк  2015-06-08 12:50:54   \n",
              "1  лицензия № 1481       Foryou  Сбербанк России  2015-06-08 11:09:57   \n",
              "2  лицензия № 2562   Vladimir84          Бинбанк  2015-06-05 20:14:28   \n",
              "3  лицензия № 1481       643609  Сбербанк России  2015-06-05 13:51:01   \n",
              "4  лицензия № 2766  anfisa-2003         ОТП Банк  2015-06-05 10:58:12   \n",
              "\n",
              "                                                text  rating_grade  \n",
              "0  добрый день я не являюсь клиентом банка и пору...           NaN  \n",
              "1  доброго дня являюсь держателем зарплатной карт...           NaN  \n",
              "2  здравствуйте дублирую свое заявление от в до м...           NaN  \n",
              "3  добрый день я открыл расчетный счет в сбербанк...           NaN  \n",
              "4   г взяла кредит в вашем банке заявленная мною ...           NaN  "
            ]
          },
          "execution_count": 6,
          "metadata": {},
          "output_type": "execute_result"
        }
      ],
      "source": [
        "df.head()"
      ]
    },
    {
      "cell_type": "markdown",
      "metadata": {
        "id": "N83RBJFkHo0Q"
      },
      "source": [
        "### Т.к. через датафрейм почему-то очень долго считается сумма по серии, то возьмем изначальный список словарем, уберем лишнее, соберем единый список и посчитаем количество"
      ]
    },
    {
      "cell_type": "code",
      "execution_count": null,
      "metadata": {
        "colab": {
          "base_uri": "https://localhost:8080/"
        },
        "id": "HP-cpiIzEa5-",
        "outputId": "8b6457e2-aa50-4549-898b-16aa10a2c193"
      },
      "outputs": [
        {
          "name": "stderr",
          "output_type": "stream",
          "text": [
            "100%|████████████████████████████████████████████████████████████████████████| 153499/153499 [00:20<00:00, 7487.11it/s]\n"
          ]
        }
      ],
      "source": [
        "# ТОП 10 слов\n",
        "words = []\n",
        "for res in tqdm(responses):\n",
        "  res['text'] = re.sub('\\s+', ' ', res['text'])\n",
        "  words += re.sub('[^а-яА-Я -]+', '', res['text']).lower().split()"
      ]
    },
    {
      "cell_type": "code",
      "execution_count": null,
      "metadata": {
        "colab": {
          "base_uri": "https://localhost:8080/"
        },
        "id": "l3qNFxcaHWAe",
        "outputId": "67f26cbf-70ae-44bc-cd3e-ef26393093c2"
      },
      "outputs": [
        {
          "data": {
            "text/plain": [
              "[('в', 1323022),\n",
              " ('и', 1054682),\n",
              " ('не', 854518),\n",
              " ('на', 704480),\n",
              " ('что', 620936),\n",
              " ('я', 575418),\n",
              " ('с', 455462),\n",
              " ('по', 365152),\n",
              " ('-', 338389),\n",
              " ('мне', 320651)]"
            ]
          },
          "execution_count": 11,
          "metadata": {},
          "output_type": "execute_result"
        }
      ],
      "source": [
        "Counter(words).most_common()[:10]"
      ]
    },
    {
      "cell_type": "code",
      "execution_count": null,
      "metadata": {
        "id": "bfqM4GG8sf87"
      },
      "outputs": [],
      "source": [
        "# Не хватает памяти на такие способы\n",
        "# df['text'].apply(lambda x: pd.value_counts(x.split(\" \"))).sum(axis = 0)\n",
        "\n",
        "# word_count = Counter(df['text'].str.split(' ').sum()).most_common()[:10]"
      ]
    },
    {
      "cell_type": "code",
      "execution_count": null,
      "metadata": {
        "colab": {
          "base_uri": "https://localhost:8080/"
        },
        "id": "HXsGRfZowcTJ",
        "outputId": "20bb628f-2e4d-4049-ad2f-0d119ac730e0"
      },
      "outputs": [
        {
          "name": "stderr",
          "output_type": "stream",
          "text": [
            "[nltk_data] Downloading package stopwords to\n",
            "[nltk_data]     C:\\Users\\Администратор\\AppData\\Roaming\\nltk_data...\n",
            "[nltk_data]   Package stopwords is already up-to-date!\n",
            "[nltk_data] Downloading package omw-1.4 to\n",
            "[nltk_data]     C:\\Users\\Администратор\\AppData\\Roaming\\nltk_data...\n",
            "[nltk_data]   Package omw-1.4 is already up-to-date!\n"
          ]
        }
      ],
      "source": [
        "from nltk.corpus import stopwords\n",
        "nltk.download('stopwords')\n",
        "nltk.download('omw-1.4')\n",
        "stopwords_set = stopwords.words('russian')"
      ]
    },
    {
      "cell_type": "code",
      "execution_count": null,
      "metadata": {
        "colab": {
          "base_uri": "https://localhost:8080/"
        },
        "id": "oB_5aAkZIDg9",
        "outputId": "daabe180-c9be-460a-db8e-0598328c2272"
      },
      "outputs": [
        {
          "data": {
            "text/plain": [
              "[('банка', 263947),\n",
              " ('банк', 196294),\n",
              " ('деньги', 130087),\n",
              " ('карту', 104967),\n",
              " ('карты', 100919),\n",
              " ('кредит', 80265),\n",
              " ('день', 76001),\n",
              " ('заявление', 69525),\n",
              " ('отделение', 66470),\n",
              " ('очень', 66169)]"
            ]
          },
          "execution_count": 13,
          "metadata": {},
          "output_type": "execute_result"
        }
      ],
      "source": [
        "# ТОП слов без стоп слов\n",
        "words_st = [msg for msg in words if msg not in stopwords_set + ['-', 'это', 'также', 'а', 'аа']]\n",
        "Counter(words_st).most_common()[:10]"
      ]
    },
    {
      "cell_type": "code",
      "execution_count": null,
      "metadata": {
        "colab": {
          "base_uri": "https://localhost:8080/"
        },
        "id": "Al0jdl2oIS08",
        "outputId": "e7b8b55c-a0eb-4a02-ac54-8a05765fcb77"
      },
      "outputs": [
        {
          "name": "stderr",
          "output_type": "stream",
          "text": [
            "[nltk_data] Downloading package wordnet to\n",
            "[nltk_data]     C:\\Users\\Администратор\\AppData\\Roaming\\nltk_data...\n",
            "[nltk_data]   Package wordnet is already up-to-date!\n"
          ]
        }
      ],
      "source": [
        "# Приведение слова к нормальной форме\n",
        "from nltk.stem import WordNetLemmatizer\n",
        "nltk.download('wordnet')\n",
        "wl = WordNetLemmatizer()"
      ]
    },
    {
      "cell_type": "code",
      "execution_count": null,
      "metadata": {
        "colab": {
          "base_uri": "https://localhost:8080/"
        },
        "id": "DmbtP7nsI5Vs",
        "outputId": "7726d3a3-7339-43da-deb8-2bf77fbdbd0f"
      },
      "outputs": [
        {
          "data": {
            "text/plain": [
              "['добрый',\n",
              " 'день',\n",
              " 'являюсь',\n",
              " 'клиентом',\n",
              " 'банка',\n",
              " 'поручителем',\n",
              " 'кредитному',\n",
              " 'договору',\n",
              " 'являюсь',\n",
              " 'каким-либо']"
            ]
          },
          "execution_count": 15,
          "metadata": {},
          "output_type": "execute_result"
        }
      ],
      "source": [
        "words_lem = [wl.lemmatize(word) for word in words_st]\n",
        "words_lem[:10]"
      ]
    },
    {
      "cell_type": "code",
      "execution_count": null,
      "metadata": {
        "colab": {
          "base_uri": "https://localhost:8080/"
        },
        "id": "S5AWPTEyJXGu",
        "outputId": "7bcf26e5-bebd-45c3-8093-421b2b9eaaa9"
      },
      "outputs": [
        {
          "data": {
            "text/plain": [
              "[('банка', 263947),\n",
              " ('банк', 196294),\n",
              " ('деньги', 130087),\n",
              " ('карту', 104967),\n",
              " ('карты', 100919),\n",
              " ('кредит', 80265),\n",
              " ('день', 76001),\n",
              " ('заявление', 69525),\n",
              " ('отделение', 66470),\n",
              " ('очень', 66169)]"
            ]
          },
          "execution_count": 16,
          "metadata": {},
          "output_type": "execute_result"
        }
      ],
      "source": [
        "lem_count = Counter(words_lem).most_common()[:10]\n",
        "lem_count"
      ]
    },
    {
      "cell_type": "code",
      "execution_count": null,
      "metadata": {
        "id": "OspCs0ceJCI0"
      },
      "outputs": [],
      "source": [
        "# С помощью другой библиотеки\n",
        "import pymorphy2\n",
        "m = pymorphy2.MorphAnalyzer(lang='ru')"
      ]
    },
    {
      "cell_type": "code",
      "execution_count": null,
      "metadata": {
        "colab": {
          "base_uri": "https://localhost:8080/",
          "height": 408
        },
        "id": "LGkvvnOdJxLE",
        "outputId": "38157dfc-5a32-45a7-9344-2c8fcaf3d22d"
      },
      "outputs": [
        {
          "name": "stderr",
          "output_type": "stream",
          "text": [
            "100%|██████████████████████████████████████████████████████████████████| 21932216/21932216 [1:41:14<00:00, 3610.59it/s]\n"
          ]
        }
      ],
      "source": [
        "lemms = []\n",
        "sush = []\n",
        "for word in tqdm(words_st):\n",
        "  lemms.append(m.parse(word)[0].normal_form)\n",
        "  if m.parse(word)[0].tag.cyr_repr.split(',')[0] == 'СУЩ':\n",
        "    sush.append(m.parse(word)[0].normal_form)"
      ]
    },
    {
      "cell_type": "code",
      "execution_count": null,
      "metadata": {
        "colab": {
          "base_uri": "https://localhost:8080/"
        },
        "id": "yfPS6fyOKbp1",
        "outputId": "cd95565c-7023-471c-e495-fa5aabea5d60"
      },
      "outputs": [
        {
          "data": {
            "text/plain": [
              "[('банк', 624308),\n",
              " ('карта', 331892),\n",
              " ('деньга', 178378),\n",
              " ('день', 172215),\n",
              " ('мой', 161103),\n",
              " ('кредит', 154882),\n",
              " ('который', 148846),\n",
              " ('отделение', 143611),\n",
              " ('сотрудник', 133637),\n",
              " ('клиент', 132953)]"
            ]
          },
          "execution_count": 18,
          "metadata": {},
          "output_type": "execute_result"
        }
      ],
      "source": [
        "# Леммы\n",
        "Counter(lemms).most_common()[:10]"
      ]
    },
    {
      "cell_type": "code",
      "execution_count": null,
      "metadata": {
        "colab": {
          "base_uri": "https://localhost:8080/"
        },
        "id": "VqBMalYpgNeh",
        "outputId": "0930c8c1-a422-4315-84dd-5874ba05e167"
      },
      "outputs": [
        {
          "data": {
            "text/plain": [
              "[('банк', 624308),\n",
              " ('карта', 331892),\n",
              " ('деньга', 178378),\n",
              " ('день', 172215),\n",
              " ('кредит', 154882),\n",
              " ('отделение', 143611),\n",
              " ('сотрудник', 133637),\n",
              " ('клиент', 132953),\n",
              " ('счёт', 125002),\n",
              " ('сумма', 110905)]"
            ]
          },
          "execution_count": 19,
          "metadata": {},
          "output_type": "execute_result"
        }
      ],
      "source": [
        "# Существительные\n",
        "Counter(sush).most_common()[:10]"
      ]
    },
    {
      "cell_type": "markdown",
      "metadata": {
        "id": "UPbrc9QXZSxF"
      },
      "source": [
        "## Кривые Ципфа и Хипса"
      ]
    },
    {
      "cell_type": "code",
      "execution_count": null,
      "metadata": {
        "id": "9i9Be7sjZgrl",
        "outputId": "163a6ec8-abdb-4dad-ea00-1e2e8d4ab8f5"
      },
      "outputs": [
        {
          "data": {
            "image/png": "[encoded data removed]",
            "text/plain": [
              "<Figure size 1080x720 with 1 Axes>"
            ]
          },
          "metadata": {
            "needs_background": "light"
          },
          "output_type": "display_data"
        }
      ],
      "source": [
        "# Ципфа\n",
        "plt.figure(figsize=(15,10))\n",
        "plt.plot(range(300), sorted(list(Counter(words_lem).values()), reverse = True)[:300])\n",
        "plt.show();"
      ]
    },
    {
      "cell_type": "code",
      "execution_count": null,
      "metadata": {
        "id": "bXE9v4LQXkVh",
        "outputId": "72cd26b6-fa4d-433b-930b-e4f163945ed8"
      },
      "outputs": [
        {
          "name": "stderr",
          "output_type": "stream",
          "text": [
            "[nltk_data] Downloading package punkt to\n",
            "[nltk_data]     C:\\Users\\Администратор\\AppData\\Roaming\\nltk_data...\n",
            "[nltk_data]   Package punkt is already up-to-date!\n"
          ]
        },
        {
          "data": {
            "text/plain": [
              "True"
            ]
          },
          "execution_count": 10,
          "metadata": {},
          "output_type": "execute_result"
        }
      ],
      "source": [
        "nltk.download('punkt')"
      ]
    },
    {
      "cell_type": "code",
      "execution_count": null,
      "metadata": {
        "id": "6y9xg8cAXkVh",
        "outputId": "9c02faff-a091-4195-9906-7630277ad799"
      },
      "outputs": [
        {
          "name": "stderr",
          "output_type": "stream",
          "text": [
            "100%|██████████████████████████████████████████████████████████████████████████| 153499/153499 [29:41<00:00, 86.18it/s]\n"
          ]
        }
      ],
      "source": [
        "# Хипс\n",
        "cnt = Counter()\n",
        "n_words = []\n",
        "n_tokens =[]\n",
        "tokens = []\n",
        "for id, row in tqdm(df.iterrows(), total = len(df)):\n",
        "    tokens = nltk.word_tokenize(row['text'])\n",
        "    cnt.update([token for token in tokens])\n",
        "    n_words.append(len(cnt))\n",
        "    n_tokens.append(sum(list(cnt.values())))"
      ]
    },
    {
      "cell_type": "code",
      "execution_count": null,
      "metadata": {
        "id": "JFK0YVTqXkVi",
        "outputId": "9acd07f7-3973-4be5-f378-e729813f6958"
      },
      "outputs": [
        {
          "data": {
            "image/png": "[encoded data removed]",
            "text/plain": [
              "<Figure size 1080x720 with 1 Axes>"
            ]
          },
          "metadata": {
            "needs_background": "light"
          },
          "output_type": "display_data"
        }
      ],
      "source": [
        "plt.figure(figsize=(15,10))\n",
        "plt.plot(n_tokens, n_words)\n",
        "plt.show();"
      ]
    },
    {
      "cell_type": "markdown",
      "metadata": {
        "id": "220tbDx-XkVi"
      },
      "source": [
        "##     Ответьте на следующие вопросы:\n",
        "\n",
        "    какое слово встречается чаще, \"сотрудник\" или \"клиент\"?\n",
        "    сколько раз встречается слова \"мошенничество\" и \"доверие\"?\n"
      ]
    },
    {
      "cell_type": "code",
      "execution_count": null,
      "metadata": {
        "id": "7Bn8TRIhXkVi",
        "outputId": "2d6fabe2-3984-4d1b-87c1-bc515f783c6d"
      },
      "outputs": [
        {
          "data": {
            "text/html": [
              "<div>\n",
              "<style scoped>\n",
              "    .dataframe tbody tr th:only-of-type {\n",
              "        vertical-align: middle;\n",
              "    }\n",
              "\n",
              "    .dataframe tbody tr th {\n",
              "        vertical-align: top;\n",
              "    }\n",
              "\n",
              "    .dataframe thead th {\n",
              "        text-align: right;\n",
              "    }\n",
              "</style>\n",
              "<table border=\"1\" class=\"dataframe\">\n",
              "  <thead>\n",
              "    <tr style=\"text-align: right;\">\n",
              "      <th></th>\n",
              "      <th>words</th>\n",
              "      <th>count</th>\n",
              "    </tr>\n",
              "  </thead>\n",
              "  <tbody>\n",
              "    <tr>\n",
              "      <th>0</th>\n",
              "      <td>добрый</td>\n",
              "      <td>18544</td>\n",
              "    </tr>\n",
              "    <tr>\n",
              "      <th>1</th>\n",
              "      <td>день</td>\n",
              "      <td>76001</td>\n",
              "    </tr>\n",
              "    <tr>\n",
              "      <th>2</th>\n",
              "      <td>являюсь</td>\n",
              "      <td>19688</td>\n",
              "    </tr>\n",
              "    <tr>\n",
              "      <th>3</th>\n",
              "      <td>клиентом</td>\n",
              "      <td>25945</td>\n",
              "    </tr>\n",
              "    <tr>\n",
              "      <th>4</th>\n",
              "      <td>банка</td>\n",
              "      <td>263947</td>\n",
              "    </tr>\n",
              "  </tbody>\n",
              "</table>\n",
              "</div>"
            ],
            "text/plain": [
              "      words   count\n",
              "0    добрый   18544\n",
              "1      день   76001\n",
              "2   являюсь   19688\n",
              "3  клиентом   25945\n",
              "4     банка  263947"
            ]
          },
          "execution_count": 57,
          "metadata": {},
          "output_type": "execute_result"
        }
      ],
      "source": [
        "lemms_df = pd.DataFrame({'words': Counter(words_lem).keys(), 'count': Counter(words_lem).values()})\n",
        "lemms_df.head()"
      ]
    },
    {
      "cell_type": "code",
      "execution_count": null,
      "metadata": {
        "id": "nNEiQMONXkVj",
        "outputId": "33973c97-34d0-4539-b45a-201d6b179915"
      },
      "outputs": [
        {
          "name": "stdout",
          "output_type": "stream",
          "text": [
            "Сотрудник чаще чем клиент\n"
          ]
        }
      ],
      "source": [
        "if lemms_df.loc[lemms_df['words'] == 'сотрудник']['count'].values[0] > lemms_df.loc[lemms_df['words'] == 'клиент']['count'].values[0]:\n",
        "    print('Сотрудник чаще чем клиент')\n",
        "else:\n",
        "    print('Клиент чаще чем сотрудник')"
      ]
    },
    {
      "cell_type": "code",
      "execution_count": null,
      "metadata": {
        "id": "y-zpzbTSXkVj",
        "outputId": "fa0ac585-7feb-494f-9dd5-77cf5e44c4fb"
      },
      "outputs": [
        {
          "name": "stdout",
          "output_type": "stream",
          "text": [
            "Доверие чаще чем мошенничество\n"
          ]
        }
      ],
      "source": [
        "if lemms_df.loc[lemms_df['words'] == 'мошенничество']['count'].values[0] > lemms_df.loc[lemms_df['words'] == 'доверие']['count'].values[0]:\n",
        "    print('Мошенничество чаще чем доверие')\n",
        "else:\n",
        "    print('Доверие чаще чем мошенничество')"
      ]
    },
    {
      "cell_type": "markdown",
      "metadata": {
        "id": "n1cIX-puXkVj"
      },
      "source": [
        "## В поле \"rating_grade\" записана оценка отзыва по шкале от 1 до 5. Используйте меру , для того, чтобы найти ключевые слова и биграмы для положительных отзывов (с оценкой 5) и отрицательных отзывов (с оценкой 1)"
      ]
    },
    {
      "cell_type": "code",
      "execution_count": null,
      "metadata": {
        "id": "k0krBJN_XkVj"
      },
      "outputs": [],
      "source": [
        "grade_1 = df.loc[df['rating_grade'] == 1]\n",
        "grade_5 = df.loc[df['rating_grade'] == 5]"
      ]
    },
    {
      "cell_type": "code",
      "execution_count": null,
      "metadata": {
        "id": "iVHhXD56XkVj"
      },
      "outputs": [],
      "source": [
        "ru_words = re.compile('[А-Яа-я]+')"
      ]
    },
    {
      "cell_type": "code",
      "execution_count": null,
      "metadata": {
        "id": "_d5BvZwtXkVk"
      },
      "outputs": [],
      "source": [
        "def words_only(text):\n",
        "    return ' '.join(ru_words.findall(text))\n",
        "\n",
        "\n",
        "def lemmatize(text):\n",
        "    try:\n",
        "        return ' '.join([m.parse(w)[0].normal_form for w in text.lower().split()])\n",
        "    except:\n",
        "        return ' '\n",
        "    \n",
        "    \n",
        "def remove_stopwords(text, stop_words=stopwords_set+['-', 'это', 'также']):\n",
        "    try:\n",
        "        return ' '.join([token for token in text.split() if token not in stop_words])\n",
        "    except:\n",
        "        return ' '\n",
        "    \n",
        "def preprocess(text):\n",
        "    return remove_stopwords(lemmatize(words_only(text.lower())))\n",
        "    "
      ]
    },
    {
      "cell_type": "code",
      "execution_count": null,
      "metadata": {
        "id": "1nx3aUmZXkVk",
        "outputId": "b60479a0-53e6-4c53-b5e5-046720e91955"
      },
      "outputs": [
        {
          "name": "stderr",
          "output_type": "stream",
          "text": [
            "C:\\Users\\Администратор\\AppData\\Local\\Temp\\ipykernel_23880\\386445839.py:1: SettingWithCopyWarning: \n",
            "A value is trying to be set on a copy of a slice from a DataFrame.\n",
            "Try using .loc[row_indexer,col_indexer] = value instead\n",
            "\n",
            "See the caveats in the documentation: https://pandas.pydata.org/pandas-docs/stable/user_guide/indexing.html#returning-a-view-versus-a-copy\n",
            "  grade_1['text'] = grade_1['text'].astype('str').apply(preprocess)\n",
            "C:\\Users\\Администратор\\AppData\\Local\\Temp\\ipykernel_23880\\386445839.py:2: SettingWithCopyWarning: \n",
            "A value is trying to be set on a copy of a slice from a DataFrame.\n",
            "Try using .loc[row_indexer,col_indexer] = value instead\n",
            "\n",
            "See the caveats in the documentation: https://pandas.pydata.org/pandas-docs/stable/user_guide/indexing.html#returning-a-view-versus-a-copy\n",
            "  grade_5['text'] = grade_5['text'].astype('str').apply(preprocess)\n"
          ]
        }
      ],
      "source": [
        "grade_1['text'] = grade_1['text'].astype('str').apply(preprocess)\n",
        "grade_5['text'] = grade_5['text'].astype('str').apply(preprocess)"
      ]
    },
    {
      "cell_type": "code",
      "execution_count": null,
      "metadata": {
        "id": "JjZ25gdRXkVk"
      },
      "outputs": [],
      "source": [
        "from gensim.corpora import Dictionary\n",
        "from gensim.models import TfidfModel"
      ]
    },
    {
      "cell_type": "code",
      "execution_count": null,
      "metadata": {
        "id": "tmiDsYu3XkVk"
      },
      "outputs": [],
      "source": [
        "def sort_tfidf(text):\n",
        "    texts_1 = [text.split() for text in text]\n",
        "    dict_ = Dictionary(texts_1)\n",
        "    corpus = [dict_.doc2bow(text) for text in texts_1]\n",
        "    tfIdf = TfidfModel(corpus)\n",
        "\n",
        "    weight_tfidf =[]\n",
        "    for doc in tfIdf[corpus]:\n",
        "        for id, freq in doc:\n",
        "            weight_tfidf.append([dict_[id], np.around(freq, decimals=5)])\n",
        "            \n",
        "    return sorted(weight_tfidf, key=lambda x: x[1], reverse=True)[:10]"
      ]
    },
    {
      "cell_type": "code",
      "execution_count": null,
      "metadata": {
        "id": "6--AUl6OXkVl",
        "outputId": "111afdb8-3864-4800-d1bd-f9396cc9bd1c"
      },
      "outputs": [
        {
          "name": "stdout",
          "output_type": "stream",
          "text": [
            "[['бпф', 0.918], ['слиток', 0.90204], ['юб', 0.89889], ['тыханский', 0.88437], ['мб', 0.87149], ['ргс', 0.86989], ['машинцев', 0.86955], ['барклайс', 0.86781], ['вексель', 0.8651], ['эпизод', 0.86133]]\n"
          ]
        }
      ],
      "source": [
        "# ТОП слов для rating_grade 1\n",
        "print(sort_tfidf(grade_1['text']))"
      ]
    },
    {
      "cell_type": "code",
      "execution_count": null,
      "metadata": {
        "id": "iGeJ9HRZXkVl",
        "outputId": "c31a2bf8-f4d6-48e0-df00-5ec809c72ccf"
      },
      "outputs": [
        {
          "name": "stdout",
          "output_type": "stream",
          "text": [
            "[['канада', 0.90073], ['тумбочка', 0.89297], ['промтрансбанк', 0.88082], ['марюс', 0.84306], ['илах', 0.84182], ['семинар', 0.79991], ['пд', 0.79788], ['либо', 0.79603], ['джиргала', 0.78978], ['маштакова', 0.77617]]\n"
          ]
        }
      ],
      "source": [
        "# ТОП слов для rating_grade 5\n",
        "print(sort_tfidf(grade_5['text']))"
      ]
    },
    {
      "cell_type": "markdown",
      "metadata": {
        "id": "w0nvPEf-XkVl"
      },
      "source": [
        "## Тематическое моделирование\n",
        "\n",
        "    Постройте несколько тематических моделей коллекции документов с разным числом тем. Приведите примеры понятных (интерпретируемых) тем.\n",
        "    \n",
        "    Найдите темы, в которых упомянуты конкретные банки (Сбербанк, ВТБ, другой банк). Можете ли вы их \n",
        "    прокомментировать / объяснить? Эта часть задания может быть сделана с использованием gensim.\n"
      ]
    },
    {
      "cell_type": "code",
      "execution_count": null,
      "metadata": {
        "id": "FIk7N08MXkVl"
      },
      "outputs": [],
      "source": [
        "df['text'] = df['text'].astype('str').apply(preprocess)"
      ]
    },
    {
      "cell_type": "code",
      "execution_count": null,
      "metadata": {
        "id": "ZDC_krMcXkVl"
      },
      "outputs": [],
      "source": [
        "texts = [text.split() for text in df['text']]\n",
        "dict_ = Dictionary(texts)\n",
        "corpus = [dict_.doc2bow(text) for text in texts]"
      ]
    },
    {
      "cell_type": "code",
      "execution_count": null,
      "metadata": {
        "id": "6f2nBigtXkVm"
      },
      "outputs": [],
      "source": [
        "tfIdf = TfidfModel(corpus)\n",
        "corpus_tfidf = tfIdf[corpus]"
      ]
    },
    {
      "cell_type": "code",
      "execution_count": null,
      "metadata": {
        "id": "NHU4tFM5XkVm"
      },
      "outputs": [],
      "source": [
        "from gensim.models import lsimodel"
      ]
    },
    {
      "cell_type": "code",
      "execution_count": null,
      "metadata": {
        "id": "cDeKgnKhXkVm",
        "outputId": "08040d5f-03d3-41b1-e319-685cc4f7eca3"
      },
      "outputs": [
        {
          "data": {
            "text/plain": [
              "[(0,\n",
              "  '0.196*\"карта\" + 0.134*\"кредит\" + 0.116*\"деньга\" + 0.110*\"заявление\" + 0.107*\"счёт\" + 0.101*\"вклад\" + 0.101*\"банкомат\" + 0.101*\"отделение\" + 0.097*\"сбербанк\" + 0.096*\"сумма\"'),\n",
              " (1,\n",
              "  '-0.438*\"вклад\" + 0.348*\"кредит\" + -0.177*\"банкомат\" + 0.157*\"страховка\" + 0.156*\"платёж\" + 0.150*\"задолженность\" + -0.145*\"карта\" + 0.139*\"погашение\" + -0.116*\"очередь\" + -0.111*\"открыть\"'),\n",
              " (2,\n",
              "  '-0.458*\"вклад\" + 0.279*\"банкомат\" + 0.236*\"карта\" + 0.207*\"сбербанк\" + -0.171*\"кредит\" + 0.132*\"операция\" + -0.131*\"договор\" + 0.131*\"заявление\" + 0.123*\"деньга\" + 0.121*\"средство\"'),\n",
              " (3,\n",
              "  '-0.283*\"вклад\" + -0.216*\"сумма\" + 0.201*\"заявка\" + 0.184*\"номер\" + -0.180*\"руб\" + -0.157*\"договор\" + -0.156*\"платёж\" + -0.154*\"погашение\" + -0.146*\"рубль\" + -0.143*\"процент\"'),\n",
              " (4,\n",
              "  '-0.452*\"карта\" + 0.304*\"банкомат\" + -0.197*\"лимит\" + -0.188*\"кредитный\" + 0.158*\"номер\" + 0.128*\"деньга\" + 0.128*\"терминал\" + 0.122*\"купюра\" + 0.119*\"звонок\" + -0.114*\"комиссия\"'),\n",
              " (5,\n",
              "  '-0.308*\"банкомат\" + 0.286*\"вклад\" + -0.252*\"страховка\" + 0.211*\"номер\" + -0.188*\"кредит\" + 0.163*\"звонок\" + -0.144*\"заявка\" + 0.122*\"ваш\" + 0.111*\"телефон\" + 0.109*\"средство\"'),\n",
              " (6,\n",
              "  '0.270*\"сбербанк\" + 0.204*\"заявка\" + 0.201*\"заявление\" + 0.196*\"страховка\" + -0.185*\"платёж\" + 0.168*\"страхование\" + 0.162*\"документ\" + -0.142*\"задолженность\" + 0.141*\"денежный\" + 0.138*\"рассмотрение\"'),\n",
              " (7,\n",
              "  '0.256*\"вклад\" + 0.251*\"карта\" + -0.238*\"перевод\" + -0.214*\"кошелёк\" + 0.211*\"заявление\" + -0.169*\"киви\" + -0.151*\"комиссия\" + -0.141*\"курс\" + 0.121*\"задолженность\" + -0.115*\"терминал\"'),\n",
              " (8,\n",
              "  '0.438*\"страховка\" + 0.258*\"банкомат\" + 0.235*\"страхование\" + -0.209*\"платёж\" + 0.197*\"номер\" + 0.159*\"страховой\" + -0.125*\"справка\" + 0.120*\"звонок\" + -0.117*\"документ\" + -0.115*\"сбербанк\"'),\n",
              " (9,\n",
              "  '-0.489*\"кошелёк\" + -0.360*\"киви\" + 0.216*\"сбербанк\" + -0.204*\"вклад\" + -0.153*\"идентификация\" + -0.142*\"заявка\" + -0.137*\"поддержка\" + -0.128*\"страховка\" + -0.127*\"терминал\" + -0.120*\"заблокировать\"')]"
            ]
          },
          "execution_count": 66,
          "metadata": {},
          "output_type": "execute_result"
        }
      ],
      "source": [
        "lsi = lsimodel.LsiModel(corpus=corpus_tfidf, id2word=dict_, num_topics=10)\n",
        "lsi.show_topics(10)"
      ]
    },
    {
      "cell_type": "code",
      "execution_count": null,
      "metadata": {
        "id": "tWdMfFcIXkVn",
        "outputId": "6c096f17-d951-4f1b-eb1a-278a4b83bf55"
      },
      "outputs": [
        {
          "data": {
            "text/plain": [
              "[(0,\n",
              "  '0.196*\"карта\" + 0.134*\"кредит\" + 0.116*\"деньга\" + 0.109*\"заявление\" + 0.107*\"счёт\" + 0.102*\"банкомат\" + 0.101*\"отделение\" + 0.101*\"вклад\" + 0.097*\"сбербанк\" + 0.096*\"сумма\"'),\n",
              " (1,\n",
              "  '-0.394*\"вклад\" + 0.358*\"кредит\" + -0.208*\"банкомат\" + -0.166*\"карта\" + 0.165*\"страховка\" + 0.149*\"платёж\" + 0.148*\"задолженность\" + 0.141*\"погашение\" + -0.118*\"деньга\" + 0.115*\"звонок\"'),\n",
              " (2,\n",
              "  '-0.494*\"вклад\" + 0.278*\"банкомат\" + 0.224*\"карта\" + 0.186*\"сбербанк\" + -0.137*\"кредит\" + 0.135*\"заявление\" + 0.124*\"операция\" + -0.122*\"договор\" + 0.120*\"средство\" + 0.118*\"деньга\"'),\n",
              " (3,\n",
              "  '-0.282*\"вклад\" + -0.219*\"сумма\" + -0.189*\"руб\" + 0.187*\"номер\" + 0.172*\"заявка\" + -0.157*\"платёж\" + -0.154*\"договор\" + -0.149*\"рубль\" + -0.149*\"погашение\" + -0.148*\"процент\"'),\n",
              " (4,\n",
              "  '-0.324*\"карта\" + 0.284*\"вклад\" + 0.273*\"номер\" + -0.199*\"страховка\" + 0.192*\"звонок\" + -0.166*\"заявка\" + -0.162*\"лимит\" + -0.151*\"кредитный\" + 0.139*\"ваш\" + 0.139*\"телефон\"'),\n",
              " (5,\n",
              "  '0.457*\"банкомат\" + -0.301*\"карта\" + -0.166*\"вклад\" + 0.155*\"купюра\" + 0.139*\"кредит\" + 0.138*\"деньга\" + -0.134*\"смс\" + 0.126*\"очередь\" + 0.123*\"терминал\" + 0.118*\"страховка\"'),\n",
              " (6,\n",
              "  '0.231*\"заявление\" + 0.226*\"сбербанк\" + 0.212*\"заявка\" + 0.211*\"страховка\" + -0.207*\"платёж\" + 0.163*\"страхование\" + 0.148*\"документ\" + 0.144*\"рассмотрение\" + -0.140*\"задолженность\" + 0.131*\"договор\"'),\n",
              " (7,\n",
              "  '-0.296*\"вклад\" + 0.261*\"перевод\" + 0.253*\"сбербанк\" + -0.234*\"карта\" + -0.190*\"банкомат\" + 0.130*\"платёж\" + 0.128*\"услуга\" + -0.122*\"задолженность\" + -0.119*\"заявление\" + -0.113*\"заявка\"'),\n",
              " (8,\n",
              "  '0.327*\"банкомат\" + -0.296*\"сбербанк\" + 0.227*\"страховка\" + -0.210*\"платёж\" + 0.164*\"страхование\" + 0.154*\"альфа\" + 0.123*\"комиссия\" + -0.120*\"погашение\" + 0.115*\"ваш\" + 0.109*\"услуга\"'),\n",
              " (9,\n",
              "  '-0.389*\"страховка\" + -0.344*\"сбербанк\" + -0.194*\"номер\" + -0.167*\"смс\" + -0.162*\"страхование\" + 0.159*\"заявка\" + -0.148*\"вклад\" + 0.145*\"документ\" + -0.131*\"мобильный\" + 0.125*\"счёт\"'),\n",
              " (10,\n",
              "  '0.295*\"сбербанк\" + -0.294*\"заявка\" + -0.240*\"кошелёк\" + 0.205*\"карта\" + -0.194*\"киви\" + -0.181*\"перевод\" + -0.144*\"страховка\" + -0.131*\"смс\" + 0.130*\"кредитный\" + 0.124*\"очередь\"'),\n",
              " (11,\n",
              "  '0.401*\"терминал\" + -0.274*\"перевод\" + -0.237*\"счёт\" + 0.223*\"кошелёк\" + 0.181*\"киви\" + -0.165*\"комиссия\" + 0.157*\"платёж\" + -0.132*\"деньга\" + 0.128*\"кредитный\" + -0.124*\"страховка\"'),\n",
              " (12,\n",
              "  '0.459*\"кошелёк\" + 0.335*\"киви\" + -0.197*\"смс\" + -0.182*\"заявка\" + 0.174*\"заблокировать\" + 0.143*\"идентификация\" + -0.127*\"услуга\" + 0.115*\"деньга\" + -0.111*\"погашение\" + 0.100*\"разблокировать\"'),\n",
              " (13,\n",
              "  '-0.417*\"сбербанк\" + -0.260*\"заявка\" + 0.180*\"заявление\" + -0.152*\"кредит\" + 0.151*\"страховка\" + -0.134*\"онлайн\" + 0.130*\"страхование\" + -0.120*\"курс\" + 0.113*\"очередь\" + 0.113*\"альфа\"'),\n",
              " (14,\n",
              "  '0.561*\"курс\" + 0.289*\"валюта\" + 0.285*\"евро\" + 0.279*\"доллар\" + -0.216*\"перевод\" + 0.178*\"рубль\" + -0.142*\"банкомат\" + 0.142*\"конвертация\" + 0.141*\"кассир\" + 0.125*\"касса\"')]"
            ]
          },
          "execution_count": 67,
          "metadata": {},
          "output_type": "execute_result"
        }
      ],
      "source": [
        "lsi = lsimodel.LsiModel(corpus=corpus_tfidf, id2word=dict_, num_topics=15)\n",
        "lsi.show_topics(15)"
      ]
    },
    {
      "cell_type": "code",
      "execution_count": null,
      "metadata": {
        "id": "cRDRaE4mXkVn",
        "outputId": "215247a0-cdf5-4fcb-eca4-ac684e5638f0"
      },
      "outputs": [
        {
          "data": {
            "text/plain": [
              "[(0,\n",
              "  '0.196*\"карта\" + 0.134*\"кредит\" + 0.116*\"деньга\" + 0.109*\"заявление\" + 0.107*\"счёт\" + 0.102*\"банкомат\" + 0.101*\"вклад\" + 0.101*\"отделение\" + 0.097*\"сбербанк\" + 0.096*\"сумма\"'),\n",
              " (1,\n",
              "  '-0.380*\"вклад\" + 0.361*\"кредит\" + -0.214*\"банкомат\" + -0.172*\"карта\" + 0.166*\"страховка\" + 0.147*\"задолженность\" + 0.146*\"платёж\" + 0.141*\"погашение\" + -0.121*\"деньга\" + 0.117*\"звонок\"'),\n",
              " (2,\n",
              "  '-0.503*\"вклад\" + 0.275*\"банкомат\" + 0.217*\"карта\" + 0.185*\"сбербанк\" + 0.134*\"заявление\" + -0.128*\"кредит\" + 0.120*\"операция\" + -0.118*\"договор\" + 0.117*\"средство\" + 0.116*\"деньга\"'),\n",
              " (3,\n",
              "  '-0.273*\"вклад\" + -0.220*\"сумма\" + 0.190*\"номер\" + -0.186*\"руб\" + 0.175*\"заявка\" + -0.159*\"погашение\" + -0.157*\"платёж\" + -0.155*\"договор\" + -0.146*\"рубль\" + 0.146*\"звонок\"'),\n",
              " (4,\n",
              "  '0.319*\"вклад\" + 0.276*\"номер\" + -0.248*\"карта\" + -0.214*\"страховка\" + 0.193*\"звонок\" + -0.190*\"заявка\" + -0.149*\"кредит\" + 0.141*\"телефон\" + 0.141*\"ваш\" + -0.125*\"лимит\"'),\n",
              " (5,\n",
              "  '0.471*\"банкомат\" + -0.377*\"карта\" + 0.158*\"купюра\" + -0.145*\"лимит\" + -0.145*\"кредитный\" + 0.143*\"деньга\" + 0.122*\"кредит\" + 0.117*\"чек\" + -0.115*\"смс\" + 0.112*\"очередь\"'),\n",
              " (6,\n",
              "  '0.251*\"заявка\" + 0.244*\"сбербанк\" + 0.204*\"заявление\" + 0.194*\"страховка\" + -0.187*\"платёж\" + 0.152*\"страхование\" + 0.149*\"документ\" + 0.148*\"рассмотрение\" + -0.144*\"задолженность\" + 0.137*\"вклад\"'),\n",
              " (7,\n",
              "  '0.294*\"вклад\" + -0.282*\"перевод\" + -0.277*\"сбербанк\" + 0.245*\"банкомат\" + 0.244*\"карта\" + -0.168*\"платёж\" + -0.121*\"счёт\" + -0.118*\"очередь\" + -0.115*\"терминал\" + 0.112*\"звонок\"'),\n",
              " (8,\n",
              "  '0.295*\"банкомат\" + -0.218*\"сбербанк\" + 0.216*\"страховка\" + -0.195*\"платёж\" + 0.168*\"альфа\" + 0.165*\"страхование\" + 0.140*\"комиссия\" + 0.134*\"услуга\" + -0.122*\"погашение\" + -0.109*\"заявление\"'),\n",
              " (9,\n",
              "  '-0.385*\"страховка\" + -0.336*\"сбербанк\" + 0.276*\"заявка\" + -0.181*\"страхование\" + -0.142*\"номер\" + 0.136*\"документ\" + -0.127*\"страховой\" + 0.124*\"рассмотрение\" + -0.123*\"карта\" + 0.115*\"средство\"'),\n",
              " (10,\n",
              "  '-0.285*\"заявка\" + -0.194*\"страховка\" + -0.177*\"смс\" + -0.171*\"вклад\" + -0.171*\"кошелёк\" + 0.168*\"карта\" + 0.155*\"заявление\" + -0.146*\"киви\" + -0.145*\"номер\" + -0.141*\"перевод\"'),\n",
              " (11,\n",
              "  '0.457*\"сбербанк\" + -0.231*\"счёт\" + -0.222*\"перевод\" + -0.214*\"страховка\" + -0.155*\"заявление\" + 0.149*\"заявка\" + 0.143*\"онлайн\" + 0.133*\"вклад\" + 0.132*\"кредит\" + 0.129*\"терминал\"'),\n",
              " (12,\n",
              "  '0.391*\"терминал\" + -0.282*\"сбербанк\" + 0.267*\"кошелёк\" + -0.235*\"перевод\" + 0.222*\"киви\" + -0.194*\"комиссия\" + -0.155*\"счёт\" + 0.152*\"платёж\" + 0.118*\"договор\" + 0.117*\"очередь\"'),\n",
              " (13,\n",
              "  '-0.328*\"кошелёк\" + -0.245*\"киви\" + 0.202*\"смс\" + 0.184*\"услуга\" + 0.184*\"погашение\" + 0.163*\"досрочный\" + 0.155*\"альфа\" + 0.138*\"претензия\" + -0.133*\"деньга\" + -0.133*\"сбербанк\"'),\n",
              " (14,\n",
              "  '0.339*\"терминал\" + 0.311*\"руб\" + 0.248*\"комиссия\" + 0.195*\"заявка\" + -0.154*\"кошелёк\" + -0.148*\"альфа\" + -0.143*\"банкомат\" + 0.128*\"лимит\" + 0.119*\"касса\" + -0.118*\"пароль\"'),\n",
              " (15,\n",
              "  '0.248*\"смс\" + 0.233*\"руб\" + -0.227*\"страховка\" + 0.213*\"кошелёк\" + -0.207*\"перевод\" + 0.205*\"справка\" + -0.170*\"платёж\" + 0.156*\"документ\" + 0.153*\"курс\" + 0.142*\"киви\"'),\n",
              " (16,\n",
              "  '-0.296*\"кредит\" + -0.207*\"кошелёк\" + -0.204*\"перевод\" + 0.202*\"курс\" + -0.200*\"погашение\" + 0.186*\"претензия\" + -0.164*\"досрочный\" + -0.152*\"киви\" + -0.147*\"банкомат\" + -0.145*\"номер\"'),\n",
              " (17,\n",
              "  '-0.232*\"курс\" + 0.210*\"справка\" + 0.194*\"альфа\" + 0.176*\"терминал\" + 0.167*\"счёт\" + 0.160*\"смс\" + -0.156*\"досрочный\" + -0.153*\"погашение\" + -0.150*\"кошелёк\" + 0.149*\"кредитный\"'),\n",
              " (18,\n",
              "  '-0.366*\"курс\" + -0.264*\"альфа\" + 0.251*\"комиссия\" + 0.213*\"банкомат\" + -0.206*\"евро\" + -0.191*\"терминал\" + -0.191*\"валюта\" + 0.189*\"руб\" + -0.189*\"доллар\" + -0.167*\"рубль\"'),\n",
              " (19,\n",
              "  '-0.273*\"курс\" + -0.250*\"персональный\" + 0.238*\"альфа\" + -0.195*\"данные\" + 0.192*\"руб\" + -0.189*\"платёж\" + -0.179*\"обработка\" + -0.155*\"доллар\" + -0.153*\"валюта\" + -0.146*\"евро\"')]"
            ]
          },
          "execution_count": 68,
          "metadata": {},
          "output_type": "execute_result"
        }
      ],
      "source": [
        "lsi = lsimodel.LsiModel(corpus=corpus_tfidf, id2word=dict_, num_topics=20)\n",
        "lsi.show_topics(20)"
      ]
    },
    {
      "cell_type": "markdown",
      "metadata": {
        "id": "YNyt2hJlXkVn"
      },
      "source": [
        "## Темы\n",
        "\n",
        "1. карта, кредит, деньга, заявление, счёт, отделение, сбербанк, сумма - видимо, что-то связанное с отделением банка для взятия или открытия счета кредитной карты\n",
        "2. страховка, сбербанк, заявка, страхование, документ, карта - что-то связано со страховкой средств на карте\n",
        "3. курс, справка, альфа, терминал, счёт, смс, досрочный, погашение, кредитный - что-то с досрочным погашением кредита в альфа банке\n",
        "4. курс, персональный, альфа, платёж, обработка, доллар, евро - что-то связанное с курсом валют в альфа банке\n",
        "5. кошелёк, киви, сбербанк, вклад, идентификация, заявка, поддержка, терминал, заблокировать - видимо "
      ]
    },
    {
      "cell_type": "code",
      "execution_count": null,
      "metadata": {
        "id": "AEuJ0ijLXkVn"
      },
      "outputs": [],
      "source": [
        "result_df = df.loc[(df['rating_grade'] == 1) | (df['rating_grade'] ==5)]"
      ]
    },
    {
      "cell_type": "code",
      "execution_count": null,
      "metadata": {
        "id": "hSyhXv47XkVo"
      },
      "outputs": [],
      "source": [
        "from sklearn.feature_extraction.text import TfidfTransformer\n",
        "from sklearn.decomposition import TruncatedSVD, LatentDirichletAllocation\n",
        "from sklearn.model_selection import train_test_split \n",
        "from sklearn.feature_extraction.text import TfidfVectorizer\n",
        "from sklearn.ensemble import RandomForestClassifier\n",
        "from sklearn.linear_model import LogisticRegression\n",
        "from sklearn.pipeline import Pipeline\n",
        "from sklearn.metrics import f1_score, accuracy_score"
      ]
    },
    {
      "cell_type": "code",
      "execution_count": null,
      "metadata": {
        "id": "6JK_0w-mXkVo"
      },
      "outputs": [],
      "source": [
        "result_df = result_df.iloc[:,-2:]"
      ]
    },
    {
      "cell_type": "code",
      "execution_count": null,
      "metadata": {
        "id": "Uw4sc1NKXkVo"
      },
      "outputs": [],
      "source": [
        "vectors = TfidfVectorizer().fit_transform(result_df['text'])"
      ]
    },
    {
      "cell_type": "code",
      "execution_count": null,
      "metadata": {
        "id": "3P4gVyZdXkVo"
      },
      "outputs": [],
      "source": [
        "X_train, X_test, y_train, y_test = train_test_split(vectors, result_df['rating_grade'], test_size=0.2, random_state=42)"
      ]
    },
    {
      "cell_type": "markdown",
      "metadata": {
        "id": "fzRnIMRpXkVp"
      },
      "source": [
        "### RFC"
      ]
    },
    {
      "cell_type": "code",
      "execution_count": null,
      "metadata": {
        "id": "FBKogIQPXkVp"
      },
      "outputs": [],
      "source": [
        "model =  RandomForestClassifier()"
      ]
    },
    {
      "cell_type": "code",
      "execution_count": null,
      "metadata": {
        "id": "y00JrrY8XkVp",
        "outputId": "eb5c2f80-bf45-4423-cd2b-72a69f9e9755"
      },
      "outputs": [
        {
          "data": {
            "text/plain": [
              "RandomForestClassifier()"
            ]
          },
          "execution_count": 75,
          "metadata": {},
          "output_type": "execute_result"
        }
      ],
      "source": [
        "model.fit(X_train, y_train)"
      ]
    },
    {
      "cell_type": "code",
      "execution_count": null,
      "metadata": {
        "id": "CYsuZDfmXkVp",
        "outputId": "2a5ce4f0-4f58-46f2-f31b-17a8856a2eb3"
      },
      "outputs": [
        {
          "data": {
            "text/plain": [
              "0.9354631323871222"
            ]
          },
          "execution_count": 76,
          "metadata": {},
          "output_type": "execute_result"
        }
      ],
      "source": [
        "f1_score(y_test, model.predict(X_test))"
      ]
    },
    {
      "cell_type": "markdown",
      "metadata": {
        "id": "rEzdA7qCXkVp"
      },
      "source": [
        "### LR"
      ]
    },
    {
      "cell_type": "code",
      "execution_count": null,
      "metadata": {
        "id": "jR0ST7pVXkVp"
      },
      "outputs": [],
      "source": [
        "model1 = LogisticRegression()"
      ]
    },
    {
      "cell_type": "code",
      "execution_count": null,
      "metadata": {
        "id": "kgZGMZ8OXkVp",
        "outputId": "8f01372f-49c6-4708-b45e-763ffe1f56b7"
      },
      "outputs": [
        {
          "data": {
            "text/plain": [
              "LogisticRegression()"
            ]
          },
          "execution_count": 78,
          "metadata": {},
          "output_type": "execute_result"
        }
      ],
      "source": [
        "model1.fit(X_train, y_train)"
      ]
    },
    {
      "cell_type": "code",
      "execution_count": null,
      "metadata": {
        "id": "JCgYLFVkXkVq",
        "outputId": "3c61d596-386d-46d9-8f91-904159fed4a5"
      },
      "outputs": [
        {
          "data": {
            "text/plain": [
              "0.9768795136904453"
            ]
          },
          "execution_count": 79,
          "metadata": {},
          "output_type": "execute_result"
        }
      ],
      "source": [
        "f1_score(y_test, model1.predict(X_test))"
      ]
    },
    {
      "cell_type": "markdown",
      "metadata": {
        "id": "AnnF1ENhXkVq"
      },
      "source": [
        "### 2-2 n_gramms RFC"
      ]
    },
    {
      "cell_type": "code",
      "execution_count": null,
      "metadata": {
        "id": "MGC6bpaNXkVq"
      },
      "outputs": [],
      "source": [
        "vectors1 = TfidfVectorizer(ngram_range=(2,2)).fit_transform(result_df['text'])"
      ]
    },
    {
      "cell_type": "code",
      "execution_count": null,
      "metadata": {
        "id": "D-OBR1JKXkVq"
      },
      "outputs": [],
      "source": [
        "X_train, X_test, y_train, y_test = train_test_split(vectors1, result_df['rating_grade'], test_size=0.2, random_state=42)"
      ]
    },
    {
      "cell_type": "code",
      "execution_count": null,
      "metadata": {
        "id": "EkUNQm3DXkVr"
      },
      "outputs": [],
      "source": [
        "model2 =  RandomForestClassifier()"
      ]
    },
    {
      "cell_type": "code",
      "execution_count": null,
      "metadata": {
        "id": "D0EnsUKrXkVr",
        "outputId": "7588dc2d-974f-4962-c8f6-def404cfb975"
      },
      "outputs": [
        {
          "data": {
            "text/plain": [
              "RandomForestClassifier()"
            ]
          },
          "execution_count": 86,
          "metadata": {},
          "output_type": "execute_result"
        }
      ],
      "source": [
        "model2.fit(X_train, y_train)"
      ]
    },
    {
      "cell_type": "code",
      "execution_count": null,
      "metadata": {
        "id": "UA9HC5ZlXkVr",
        "outputId": "58a69ad2-68f0-42f6-9803-a02eed8d8b53"
      },
      "outputs": [
        {
          "data": {
            "text/plain": [
              "0.9290132547864508"
            ]
          },
          "execution_count": 87,
          "metadata": {},
          "output_type": "execute_result"
        }
      ],
      "source": [
        "f1_score(y_test, model2.predict(X_test))"
      ]
    },
    {
      "cell_type": "markdown",
      "metadata": {
        "id": "EqwWN8_KXkVr"
      },
      "source": [
        "### 2-2 n_gramms LR"
      ]
    },
    {
      "cell_type": "code",
      "execution_count": null,
      "metadata": {
        "id": "E8_mmKdCXkVs"
      },
      "outputs": [],
      "source": [
        "model3 =  LogisticRegression()"
      ]
    },
    {
      "cell_type": "code",
      "execution_count": null,
      "metadata": {
        "id": "zWDk8LXTXkVs",
        "outputId": "2b246717-dd79-408a-f69a-54b73e3a8104"
      },
      "outputs": [
        {
          "data": {
            "text/plain": [
              "LogisticRegression()"
            ]
          },
          "execution_count": 89,
          "metadata": {},
          "output_type": "execute_result"
        }
      ],
      "source": [
        "model3.fit(X_train, y_train)"
      ]
    },
    {
      "cell_type": "code",
      "execution_count": null,
      "metadata": {
        "id": "baSjDmnbXkVs",
        "outputId": "64a78cac-0ac6-4236-dbd0-ba98b205b3a6"
      },
      "outputs": [
        {
          "data": {
            "text/plain": [
              "0.9410887397464578"
            ]
          },
          "execution_count": 90,
          "metadata": {},
          "output_type": "execute_result"
        }
      ],
      "source": [
        "f1_score(y_test, model3.predict(X_test))"
      ]
    },
    {
      "cell_type": "markdown",
      "metadata": {
        "id": "YZTj97rxXkVs"
      },
      "source": [
        "### LatentDirichletAllocation"
      ]
    },
    {
      "cell_type": "code",
      "execution_count": null,
      "metadata": {
        "id": "JsbRxSrQXkVs"
      },
      "outputs": [],
      "source": [
        "model4 = LatentDirichletAllocation()"
      ]
    },
    {
      "cell_type": "code",
      "execution_count": null,
      "metadata": {
        "id": "1cXDZz9yXkVt",
        "outputId": "d131a2c0-ccdf-49f8-f21f-e3a9c0e186cd"
      },
      "outputs": [
        {
          "data": {
            "text/plain": [
              "LogisticRegression()"
            ]
          },
          "execution_count": 95,
          "metadata": {},
          "output_type": "execute_result"
        }
      ],
      "source": [
        "model3.fit(X_train, y_train)"
      ]
    },
    {
      "cell_type": "code",
      "execution_count": null,
      "metadata": {
        "id": "sPPsOewUXkVt",
        "outputId": "9f916a8a-6a20-472c-e2ca-a8e8a274fef6"
      },
      "outputs": [
        {
          "data": {
            "text/plain": [
              "0.9410887397464578"
            ]
          },
          "execution_count": 96,
          "metadata": {},
          "output_type": "execute_result"
        }
      ],
      "source": [
        "f1_score(y_test, model3.predict(X_test))"
      ]
    },
    {
      "cell_type": "code",
      "execution_count": null,
      "metadata": {
        "id": "G-z1-pQCXkVt",
        "outputId": "a8dfaf7e-7b3d-4561-f0e7-0eb2791d7efe"
      },
      "outputs": [
        {
          "data": {
            "text/plain": [
              "0.9045893719806763"
            ]
          },
          "execution_count": 97,
          "metadata": {},
          "output_type": "execute_result"
        }
      ],
      "source": [
        "accuracy_score(y_test, model3.predict(X_test))"
      ]
    },
    {
      "cell_type": "markdown",
      "metadata": {
        "id": "zaFoBCNJXkVt"
      },
      "source": [
        "## Вывод:\n",
        "Качество не улучшается с увеличение n gramm"
      ]
    },
    {
      "cell_type": "code",
      "execution_count": null,
      "metadata": {
        "id": "XRxthx3AXkVt"
      },
      "outputs": [],
      "source": []
    }
  ],
  "metadata": {
    "colab": {
      "provenance": []
    },
    "kernelspec": {
      "display_name": "Python 3 (ipykernel)",
      "language": "python",
      "name": "python3"
    },
    "language_info": {
      "codemirror_mode": {
        "name": "ipython",
        "version": 3
      },
      "file_extension": ".py",
      "mimetype": "text/x-python",
      "name": "python",
      "nbconvert_exporter": "python",
      "pygments_lexer": "ipython3",
      "version": "3.9.12"
    }
  },
  "nbformat": 4,
  "nbformat_minor": 0
}